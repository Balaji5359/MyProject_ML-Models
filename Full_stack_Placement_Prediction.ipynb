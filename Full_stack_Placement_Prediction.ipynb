{
  "nbformat": 4,
  "nbformat_minor": 0,
  "metadata": {
    "colab": {
      "provenance": [],
      "authorship_tag": "ABX9TyOJglqAH/rIQCWEBKp4j3Zf",
      "include_colab_link": true
    },
    "kernelspec": {
      "name": "python3",
      "display_name": "Python 3"
    },
    "language_info": {
      "name": "python"
    }
  },
  "cells": [
    {
      "cell_type": "markdown",
      "metadata": {
        "id": "view-in-github",
        "colab_type": "text"
      },
      "source": [
        "<a href=\"https://colab.research.google.com/github/Balaji5359/MyProject_ML-Models/blob/main/Full_stack_Placement_Prediction.ipynb\" target=\"_parent\"><img src=\"https://colab.research.google.com/assets/colab-badge.svg\" alt=\"Open In Colab\"/></a>"
      ]
    },
    {
      "cell_type": "code",
      "source": [
        "import pandas as pd\n",
        "import numpy as np\n",
        "import matplotlib.pyplot as plt\n",
        "import seaborn as sns\n",
        "import warnings\n",
        "warnings.filterwarnings('ignore')"
      ],
      "metadata": {
        "id": "a8Ycf5GUg0g9"
      },
      "execution_count": null,
      "outputs": []
    },
    {
      "cell_type": "code",
      "source": [
        "data = pd.read_csv('/content/fullstack_placement_sample_data1.csv')\n",
        "data.head()"
      ],
      "metadata": {
        "id": "CRzVe2VZg9gF"
      },
      "execution_count": 10,
      "outputs": []
    },
    {
      "cell_type": "code",
      "source": [
        "data.info()"
      ],
      "metadata": {
        "id": "UnJwAKRJsZeG"
      },
      "execution_count": null,
      "outputs": []
    },
    {
      "cell_type": "code",
      "source": [
        "data = data.drop(\"Unnamed: 20\", axis=1)\n",
        "data.info()"
      ],
      "metadata": {
        "id": "2sntJVZsto5P"
      },
      "execution_count": null,
      "outputs": []
    },
    {
      "cell_type": "code",
      "source": [
        "#test and train split\n",
        "from sklearn.model_selection import train_test_split\n",
        "data['placement_status'] = data['placement_status'].map({'Placed': 1, 'Not Placed': 0})\n",
        "X = data.drop('placement_status', axis=1)\n",
        "y = data['placement_status']\n",
        "X_train, X_test, y_train, y_test = train_test_split(X, y, test_size=0.2, random_state=42)\n",
        "# print(X_train)\n",
        "# print(X_test)\n",
        "print(y_train.shape)\n",
        "print(y_test.shape)\n"
      ],
      "metadata": {
        "id": "MdXkrrJ-mFV0"
      },
      "execution_count": null,
      "outputs": []
    },
    {
      "cell_type": "code",
      "source": [
        "data[\"placement_status\"].isna()"
      ],
      "metadata": {
        "id": "c3jnCMgbtB7n"
      },
      "execution_count": null,
      "outputs": []
    },
    {
      "cell_type": "code",
      "source": [
        "#Model selection logistic regrssion\n",
        "from sklearn.linear_model import LogisticRegression\n",
        "from sklearn.metrics import accuracy_score, classification_report, confusion_matrix\n",
        "from sklearn.impute import SimpleImputer\n",
        "\n",
        "# Impute missing values using the mean strategy\n",
        "imputer = SimpleImputer(strategy='mean')\n",
        "\n",
        "# Fit the imputer on the training data and transform both training and testing data\n",
        "X_train_imputed = imputer.fit_transform(X_train)\n",
        "X_test_imputed = imputer.transform(X_test)\n",
        "\n",
        "# Convert back to DataFrame for easier column handling if needed, though not strictly necessary for LogisticRegression fit\n",
        "# X_train_imputed = pd.DataFrame(X_train_imputed, columns=X_train.columns)\n",
        "# X_test_imputed = pd.DataFrame(X_test_imputed, columns=X_test.columns)\n",
        "\n",
        "\n",
        "model_log = LogisticRegression()\n",
        "# Fit the model with the imputed data\n",
        "model_log.fit(X_train_imputed, y_train)\n",
        "\n",
        "# Make predictions using the imputed data\n",
        "train_pred = model_log.predict(X_train_imputed)\n",
        "print(\"Train Accuracy: \", accuracy_score(y_train, train_pred))\n",
        "print(\"Train Classification Report: \\n\", classification_report(y_train, train_pred))\n",
        "print(\"Train Confusion Matrix: \\n\", confusion_matrix(y_train, train_pred))\n",
        "\n",
        "test_pred = model_log.predict(X_test_imputed)\n",
        "print(\"Test Accuracy: \", accuracy_score(y_test, test_pred))\n",
        "print(\"Test Classification Report: \\n\", classification_report(y_test, test_pred))\n",
        "print(\"Test Confusion Matrix: \\n\", confusion_matrix(y_test, test_pred))"
      ],
      "metadata": {
        "id": "zC-fLD4XnAUS"
      },
      "execution_count": null,
      "outputs": []
    },
    {
      "cell_type": "code",
      "source": [
        "#ensemble methods like Random Forest\n",
        "from sklearn.ensemble import RandomForestClassifier\n",
        "model = RandomForestClassifier()\n",
        "model.fit(X_train, y_train)\n",
        "train_pred = model.predict(X_train)\n",
        "test_pred = model.predict(X_test)\n",
        "print(accuracy_score(y_train, train_pred))\n",
        "print(accuracy_score(y_test, test_pred))"
      ],
      "metadata": {
        "id": "4R0j9BSbn760"
      },
      "execution_count": null,
      "outputs": []
    },
    {
      "cell_type": "code",
      "source": [
        "#tuning hyperparameters\n",
        "model = RandomForestClassifier(n_estimators=65, max_depth=4)\n",
        "model.fit(X_train, y_train)\n",
        "train_pred = model.predict(X_train)\n",
        "test_pred = model.predict(X_test)\n",
        "print(accuracy_score(y_train, train_pred))\n",
        "print(accuracy_score(y_test, test_pred))"
      ],
      "metadata": {
        "id": "KZjKrSaZoMKJ"
      },
      "execution_count": null,
      "outputs": []
    },
    {
      "cell_type": "code",
      "source": [
        "#sample methods\n",
        "sample_data = data.sample(1)\n",
        "sample_data.drop('placement_status', axis=1, inplace=True)\n",
        "sample_data"
      ],
      "metadata": {
        "id": "byaqz6BporCP"
      },
      "execution_count": null,
      "outputs": []
    },
    {
      "cell_type": "code",
      "source": [
        "sample_data.info()"
      ],
      "metadata": {
        "id": "UlZO9B9fquDI"
      },
      "execution_count": null,
      "outputs": []
    },
    {
      "cell_type": "code",
      "source": [
        "model_log.predict(sample_data)"
      ],
      "metadata": {
        "id": "_wD-z08FuKBV"
      },
      "execution_count": null,
      "outputs": []
    },
    {
      "cell_type": "code",
      "source": [
        "import pickle\n",
        "filename = 'full_stack_model'\n",
        "pickle.dump(model_log, open(filename, 'wb'))"
      ],
      "metadata": {
        "id": "kfDh3EllusBg"
      },
      "execution_count": null,
      "outputs": []
    },
    {
      "cell_type": "code",
      "source": [],
      "metadata": {
        "id": "OAecgzvwOffX"
      },
      "execution_count": null,
      "outputs": []
    }
  ]
}